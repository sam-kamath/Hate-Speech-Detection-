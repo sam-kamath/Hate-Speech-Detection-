{
 "cells": [
  {
   "cell_type": "code",
   "execution_count": 22,
   "id": "5f67a8ca",
   "metadata": {},
   "outputs": [],
   "source": [
    "import numpy as np\n",
    "import pandas as pd"
   ]
  },
  {
   "cell_type": "code",
   "execution_count": 23,
   "id": "3484e7a6",
   "metadata": {},
   "outputs": [],
   "source": [
    "train=pd.read_csv('train.csv')\n",
    "test=pd.read_csv('test.csv')"
   ]
  },
  {
   "cell_type": "code",
   "execution_count": 24,
   "id": "60960dd9",
   "metadata": {},
   "outputs": [
    {
     "name": "stdout",
     "output_type": "stream",
     "text": [
      "The Training set has 95886 elements and its dimensions are 95886\n",
      "The Testing set has 34394 elements and its dimensions are 34394\n"
     ]
    }
   ],
   "source": [
    "print(f\"The Training set has {train.size} elements and its dimensions are {train.size}\")\n",
    "print(f\"The Testing set has {test.size} elements and its dimensions are {test.size}\")"
   ]
  },
  {
   "cell_type": "code",
   "execution_count": 25,
   "id": "4ec2fcea",
   "metadata": {},
   "outputs": [],
   "source": [
    "import re\n",
    "def clean_text(df,text_field):\n",
    "    df[text_field]=df[text_field].str.lower()\n",
    "    df[text_field]=df[text_field].apply(lambda elem: re.sub(r\"(@[A-Za-z0-9]+)|([^0-9A-Za-z \\t])|(\\w+:\\/\\/\\S+)|^rt|http.+?\", \"\",elem))\n",
    "    return df\n",
    "test_clean=clean_text(test,\"tweet\")\n",
    "train_clean=clean_text(train,\"tweet\")"
   ]
  },
  {
   "cell_type": "code",
   "execution_count": 26,
   "id": "1e08db6d",
   "metadata": {},
   "outputs": [
    {
     "data": {
      "text/plain": [
       "1    29720\n",
       "0    29720\n",
       "Name: label, dtype: int64"
      ]
     },
     "execution_count": 26,
     "metadata": {},
     "output_type": "execute_result"
    }
   ],
   "source": [
    "from sklearn.utils import resample\n",
    "train_majority=train_clean[train_clean.label==0]\n",
    "train_minority=train_clean[train_clean.label==1]\n",
    "train_minority_upsampled=resample(train_minority,replace=True,n_samples=len(train_majority),random_state=123)\n",
    "train_upsampled=pd.concat([train_minority_upsampled,train_majority])\n",
    "train_upsampled['label'].value_counts()"
   ]
  },
  {
   "cell_type": "code",
   "execution_count": 27,
   "id": "4d32d9f9",
   "metadata": {},
   "outputs": [],
   "source": [
    "from sklearn.feature_extraction.text import TfidfVectorizer\n",
    "from sklearn.pipeline import Pipeline\n",
    "from sklearn.feature_extraction.text import CountVectorizer\n",
    "from sklearn.feature_extraction.text import TfidfTransformer\n",
    "from sklearn.linear_model import SGDClassifier\n",
    "pipeline_sgd=Pipeline([('vect',CountVectorizer()),('tfidf',TfidfTransformer()),('nb',SGDClassifier()),])"
   ]
  },
  {
   "cell_type": "code",
   "execution_count": 28,
   "id": "3f018f39",
   "metadata": {},
   "outputs": [],
   "source": [
    "from sklearn.model_selection import train_test_split\n",
    "x_train,x_test,y_train,y_test=train_test_split(train_upsampled['tweet'],train_upsampled['label'],random_state=0)"
   ]
  },
  {
   "cell_type": "code",
   "execution_count": 29,
   "id": "e465791f",
   "metadata": {},
   "outputs": [],
   "source": [
    "model=pipeline_sgd.fit(x_train,y_train)\n",
    "y_pred=model.predict(x_test)"
   ]
  },
  {
   "cell_type": "code",
   "execution_count": 30,
   "id": "07c9747d",
   "metadata": {},
   "outputs": [
    {
     "name": "stdout",
     "output_type": "stream",
     "text": [
      "The Accuracy score of our model is 97%.\n",
      "\n",
      "The F1 score of our model is 97%.\n",
      "\n",
      "The Classification Report of our model is as follows\n",
      "               precision    recall  f1-score   support\n",
      "\n",
      "           0       0.99      0.95      0.97      7490\n",
      "           1       0.95      0.99      0.97      7370\n",
      "\n",
      "    accuracy                           0.97     14860\n",
      "   macro avg       0.97      0.97      0.97     14860\n",
      "weighted avg       0.97      0.97      0.97     14860\n",
      "\n"
     ]
    }
   ],
   "source": [
    "from sklearn.metrics import accuracy_score\n",
    "from sklearn.metrics import f1_score\n",
    "from sklearn.metrics import classification_report\n",
    "ascore=accuracy_score(y_test,y_pred)\n",
    "f1s=f1_score(y_test,y_pred)\n",
    "cr=classification_report(y_test,y_pred)\n",
    "print(f\"The Accuracy score of our model is {round(f1s*100)}%.\\n\")\n",
    "print(f\"The F1 score of our model is {round(f1s*100)}%.\\n\")\n",
    "print(f\"The Classification Report of our model is as follows\\n\",cr)"
   ]
  }
 ],
 "metadata": {
  "kernelspec": {
   "display_name": "Python 3 (ipykernel)",
   "language": "python",
   "name": "python3"
  },
  "language_info": {
   "codemirror_mode": {
    "name": "ipython",
    "version": 3
   },
   "file_extension": ".py",
   "mimetype": "text/x-python",
   "name": "python",
   "nbconvert_exporter": "python",
   "pygments_lexer": "ipython3",
   "version": "3.10.0"
  }
 },
 "nbformat": 4,
 "nbformat_minor": 5
}
